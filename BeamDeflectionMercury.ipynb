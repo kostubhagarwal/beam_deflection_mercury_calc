{
 "cells": [
  {
   "cell_type": "raw",
   "metadata": {},
   "source": [
    "---\n",
    "title: Beam Deflection\n",
    "description: Calculate the deflection of a beam\n",
    "params:\n",
    "    AppliedForce:\n",
    "        input: numeric\n",
    "        label: Applied Force (N)\n",
    "        value: 0\n",
    "    LengthOfMomentArm:\n",
    "        input: numeric\n",
    "        label: Length (m)\n",
    "        value: 0\n",
    "    YoungsModulus:\n",
    "        input: numeric\n",
    "        label: Youngs Modulus (Pa)\n",
    "        value: 0\n",
    "    MomentOfInertia:\n",
    "        input: numeric\n",
    "        label: Moment of Inertia (kgm^2)\n",
    "        value: 0\n",
    "---"
   ]
  },
  {
   "cell_type": "code",
   "execution_count": null,
   "metadata": {},
   "outputs": [],
   "source": [
    "# importing the modules\n",
    "import handcalcs.render\n",
    "from math import sqrt"
   ]
  },
  {
   "cell_type": "markdown",
   "metadata": {},
   "source": [
    "The deflection of a beam."
   ]
  },
  {
   "cell_type": "markdown",
   "metadata": {},
   "source": [
    "\\begin{equation*}\n",
    "D = \\frac{WL^3}{3EI} \n",
    "\\end{equation*}"
   ]
  },
  {
   "cell_type": "code",
   "execution_count": 2,
   "metadata": {},
   "outputs": [],
   "source": [
    "AppliedForce = 0\n",
    "LengthOfMomentArm = 0\n",
    "YoungsModulus = 0\n",
    "MomentOfInertia = 0"
   ]
  },
  {
   "cell_type": "code",
   "execution_count": null,
   "metadata": {},
   "outputs": [],
   "source": [
    "Deflection = AppliedForce*LengthOfMomentArm**3/(3*YoungsModulus*MomentOfInertia)\n",
    "\n",
    "print(\"W =\", AppliedForce)\n",
    "print(\"L =\", LengthOfMomentArm)\n",
    "print(\"E =\", YoungsModulus)\n",
    "print(\"I =\", MomentOfInertia)\n",
    "print()\n",
    "\n",
    "print(\"Deflection (m) =\", Deflection)\n"
   ]
  }
 ],
 "metadata": {
  "interpreter": {
   "hash": "b5a799e51d652fe77e376b801cf2fef90594f3a2bf5593e61aa70188bb2032b5"
  },
  "kernelspec": {
   "display_name": "Python 3.10.5 64-bit (windows store)",
   "language": "python",
   "name": "python3"
  },
  "language_info": {
   "codemirror_mode": {
    "name": "ipython",
    "version": 3
   },
   "file_extension": ".py",
   "mimetype": "text/x-python",
   "name": "python",
   "nbconvert_exporter": "python",
   "pygments_lexer": "ipython3",
   "version": "3.10.5"
  },
  "orig_nbformat": 4
 },
 "nbformat": 4,
 "nbformat_minor": 2
}
