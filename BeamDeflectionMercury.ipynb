{
 "cells": [
  {
   "cell_type": "raw",
   "metadata": {},
   "source": [
    "---\n",
    "title: Beam Deflection\n",
    "description: Calculate the deflection of a beam\n",
    "params:\n",
    "    AppliedForce:\n",
    "        input: numeric\n",
    "        label: Applied Force (N)\n",
    "        value: 0\n",
    "    LengthOfMomentArm:\n",
    "        input: numeric\n",
    "        label: Length (m)\n",
    "        value: 0\n",
    "    YoungsModulus:\n",
    "        input: numeric\n",
    "        label: Youngs Modulus (Pa)\n",
    "        value: 0\n",
    "    MomentOfInertia:\n",
    "        input: numeric\n",
    "        label: Moment of Inertia (kgm^2)\n",
    "        value: 0\n",
    "---"
   ]
  },
  {
   "cell_type": "markdown",
   "metadata": {},
   "source": [
    "The deflection of a beam."
   ]
  },
  {
   "cell_type": "markdown",
   "metadata": {},
   "source": [
    "\\begin{equation*}\n",
    "D = \\frac{WL^3}{3EI} \n",
    "\\end{equation*}"
   ]
  },
  {
   "cell_type": "code",
   "execution_count": 1,
   "metadata": {},
   "outputs": [
    {
     "ename": "ZeroDivisionError",
     "evalue": "division by zero",
     "output_type": "error",
     "traceback": [
      "\u001b[1;31m---------------------------------------------------------------------------\u001b[0m",
      "\u001b[1;31mZeroDivisionError\u001b[0m                         Traceback (most recent call last)",
      "\u001b[1;32mc:\\Users\\kostubh.agarwal\\Desktop\\pythoncalcs\\BeamDeflection\\BeamDeflectionMercury.ipynb Cell 4'\u001b[0m in \u001b[0;36m<cell line: 6>\u001b[1;34m()\u001b[0m\n\u001b[0;32m      <a href='vscode-notebook-cell:/c%3A/Users/kostubh.agarwal/Desktop/pythoncalcs/BeamDeflection/BeamDeflectionMercury.ipynb#ch0000003?line=2'>3</a>\u001b[0m YoungsModulus \u001b[39m=\u001b[39m \u001b[39m0\u001b[39m\n\u001b[0;32m      <a href='vscode-notebook-cell:/c%3A/Users/kostubh.agarwal/Desktop/pythoncalcs/BeamDeflection/BeamDeflectionMercury.ipynb#ch0000003?line=3'>4</a>\u001b[0m MomentOfInertia \u001b[39m=\u001b[39m \u001b[39m0\u001b[39m\n\u001b[1;32m----> <a href='vscode-notebook-cell:/c%3A/Users/kostubh.agarwal/Desktop/pythoncalcs/BeamDeflection/BeamDeflectionMercury.ipynb#ch0000003?line=5'>6</a>\u001b[0m Deflection \u001b[39m=\u001b[39m AppliedForce\u001b[39m*\u001b[39;49mLengthOfMomentArm\u001b[39m*\u001b[39;49m\u001b[39m*\u001b[39;49m\u001b[39m3\u001b[39;49m\u001b[39m/\u001b[39;49m(\u001b[39m3\u001b[39;49m\u001b[39m*\u001b[39;49mYoungsModulus\u001b[39m*\u001b[39;49mMomentOfInertia)\n\u001b[0;32m      <a href='vscode-notebook-cell:/c%3A/Users/kostubh.agarwal/Desktop/pythoncalcs/BeamDeflection/BeamDeflectionMercury.ipynb#ch0000003?line=6'>7</a>\u001b[0m \u001b[39mprint\u001b[39m(\u001b[39mf\u001b[39m\u001b[39m\"\u001b[39m\u001b[39m{\u001b[39;00mDeflection\u001b[39m}\u001b[39;00m\u001b[39m\"\u001b[39m)\n",
      "\u001b[1;31mZeroDivisionError\u001b[0m: division by zero"
     ]
    }
   ],
   "source": [
    "AppliedForce = 0\n",
    "LengthOfMomentArm = 0\n",
    "YoungsModulus = 0\n",
    "MomentOfInertia = 0\n",
    "\n",
    "Deflection = AppliedForce*LengthOfMomentArm**3/(3*YoungsModulus*MomentOfInertia)\n",
    "print(f\"{Deflection}\")"
   ]
  }
 ],
 "metadata": {
  "interpreter": {
   "hash": "b5a799e51d652fe77e376b801cf2fef90594f3a2bf5593e61aa70188bb2032b5"
  },
  "kernelspec": {
   "display_name": "Python 3.10.5 64-bit (windows store)",
   "language": "python",
   "name": "python3"
  },
  "language_info": {
   "codemirror_mode": {
    "name": "ipython",
    "version": 3
   },
   "file_extension": ".py",
   "mimetype": "text/x-python",
   "name": "python",
   "nbconvert_exporter": "python",
   "pygments_lexer": "ipython3",
   "version": "3.10.5"
  },
  "orig_nbformat": 4
 },
 "nbformat": 4,
 "nbformat_minor": 2
}
